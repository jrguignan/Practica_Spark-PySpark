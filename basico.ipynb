{
  "cells": [
    {
      "cell_type": "code",
      "execution_count": null,
      "metadata": {
        "id": "tzlTDb01mSi9"
      },
      "outputs": [],
      "source": [
        "from pyspark import SparkContext\n",
        "from pyspark.sql import SparkSession\n",
        "\n",
        "# crea el contexto de spark, maneja el cluster y las tareas\n",
        "sc = SparkContext()\n",
        "# para trabajar con dataframes y datasets\n",
        "spark = SparkSession.builder.getOrCreate()"
      ]
    },
    {
      "cell_type": "code",
      "execution_count": 18,
      "metadata": {
        "colab": {
          "base_uri": "https://localhost:8080/"
        },
        "id": "WWGEq64lml8A",
        "outputId": "349453ed-aba3-4a1f-ddec-86b34ae7916e"
      },
      "outputs": [
        {
          "data": {
            "text/plain": [
              "/content/datasets/ejemplo.txt MapPartitionsRDD[49] at textFile at NativeMethodAccessorImpl.java:0"
            ]
          },
          "execution_count": 18,
          "metadata": {},
          "output_type": "execute_result"
        }
      ],
      "source": [
        "#pasar un txt a rdd\n",
        "textfile = sc.textFile(\"/content/datasets/ejemplo.txt\")\n",
        "\n",
        "#no se muestra hasta que no ocurra una accion\n",
        "textfile"
      ]
    },
    {
      "cell_type": "code",
      "execution_count": 16,
      "metadata": {
        "colab": {
          "base_uri": "https://localhost:8080/"
        },
        "id": "tDGdWWVhpKlB",
        "outputId": "1e630758-9d1d-4305-f2a9-b824f1da4bdb"
      },
      "outputs": [
        {
          "data": {
            "text/plain": [
              "[Row(userId='1', movieId='1', rating='4.0', timestamp='964982703'),\n",
              " Row(userId='1', movieId='3', rating='4.0', timestamp='964981247'),\n",
              " Row(userId='1', movieId='6', rating='4.0', timestamp='964982224'),\n",
              " Row(userId='1', movieId='47', rating='5.0', timestamp='964983815'),\n",
              " Row(userId='1', movieId='50', rating='5.0', timestamp='964982931')]"
            ]
          },
          "execution_count": 16,
          "metadata": {},
          "output_type": "execute_result"
        }
      ],
      "source": [
        "#pase csv a rdd\n",
        "#para este caso es mejor abrirlo con un metodo distinto\n",
        "\n",
        "cvsfile = spark.read.option(\"header\", True).csv(\"/content/datasets/ratings.csv\")\n",
        "cvsfile.take(5)"
      ]
    },
    {
      "cell_type": "code",
      "execution_count": 22,
      "metadata": {
        "colab": {
          "base_uri": "https://localhost:8080/"
        },
        "id": "fwAA9sKKxhs-",
        "outputId": "ead71dc8-9753-47b0-f508-9905eed92bdf"
      },
      "outputs": [
        {
          "name": "stdout",
          "output_type": "stream",
          "text": [
            "[1, 3, 6, 47, 50, 70, 101, 110, 151, 157]\n"
          ]
        }
      ],
      "source": [
        "#toma solo los elementos de la columna movieId\n",
        "\n",
        "# Leer el archivo CSV\n",
        "df = spark.read.csv(\"/content/datasets/ratings.csv\", header=True, inferSchema=True)\n",
        "\n",
        "# Nombre de la columna que deseas seleccionar\n",
        "column_name = \"movieId\"\n",
        "\n",
        "# Seleccionar la columna y convertirla a un RDD\n",
        "column_movieId = df.select(column_name).rdd.map(lambda row: row[0])\n",
        "\n",
        "# Mostrar los primeros elementos del RDD\n",
        "print(column_movieId.take(10))"
      ]
    },
    {
      "cell_type": "markdown",
      "metadata": {
        "id": "FJFJ4sBVnfvF"
      },
      "source": [
        "# Acciones"
      ]
    },
    {
      "cell_type": "code",
      "execution_count": 6,
      "metadata": {
        "colab": {
          "base_uri": "https://localhost:8080/"
        },
        "id": "lxCY3VrxnhxD",
        "outputId": "cc4ff1ab-52bc-44e3-90dd-0742b91d1677"
      },
      "outputs": [
        {
          "data": {
            "text/plain": [
              "['primera linea ', 'segunda linea', 'tercera linea', 'cuarta linea']"
            ]
          },
          "execution_count": 6,
          "metadata": {},
          "output_type": "execute_result"
        }
      ],
      "source": [
        "#para mostrar\n",
        "textfile.collect()"
      ]
    },
    {
      "cell_type": "code",
      "execution_count": 7,
      "metadata": {
        "colab": {
          "base_uri": "https://localhost:8080/",
          "height": 36
        },
        "id": "NrTKiLUZn12N",
        "outputId": "fd31277a-f742-44b4-eb62-7f93e1b2edf9"
      },
      "outputs": [
        {
          "data": {
            "application/vnd.google.colaboratory.intrinsic+json": {
              "type": "string"
            },
            "text/plain": [
              "'primera linea '"
            ]
          },
          "execution_count": 7,
          "metadata": {},
          "output_type": "execute_result"
        }
      ],
      "source": [
        "#muetra el primer elemento\n",
        "textfile.first()"
      ]
    },
    {
      "cell_type": "code",
      "execution_count": 19,
      "metadata": {
        "colab": {
          "base_uri": "https://localhost:8080/"
        },
        "id": "p1i3naUVtZzZ",
        "outputId": "81982b99-0f2c-4506-8852-502687f1164a"
      },
      "outputs": [
        {
          "data": {
            "text/plain": [
              "['primera linea ', 'segunda linea', 'tercera linea']"
            ]
          },
          "execution_count": 19,
          "metadata": {},
          "output_type": "execute_result"
        }
      ],
      "source": [
        "#imprime un numero determinado de lineas\n",
        "textfile.take(3)"
      ]
    },
    {
      "cell_type": "code",
      "execution_count": 8,
      "metadata": {
        "colab": {
          "base_uri": "https://localhost:8080/"
        },
        "id": "432jPrBxn4Uf",
        "outputId": "b515e9fd-d615-406c-aecc-c3313fe64a11"
      },
      "outputs": [
        {
          "data": {
            "text/plain": [
              "4"
            ]
          },
          "execution_count": 8,
          "metadata": {},
          "output_type": "execute_result"
        }
      ],
      "source": [
        "#cuenta los elementos\n",
        "textfile.count()"
      ]
    },
    {
      "cell_type": "markdown",
      "metadata": {
        "id": "u1u785A-nVjO"
      },
      "source": [
        "# Transformaciones\n"
      ]
    },
    {
      "cell_type": "code",
      "execution_count": 21,
      "metadata": {
        "colab": {
          "base_uri": "https://localhost:8080/"
        },
        "id": "vXl-hEwBoMKJ",
        "outputId": "4447987b-ee78-4d13-8c7a-f630e6b8a462"
      },
      "outputs": [
        {
          "data": {
            "text/plain": [
              "['segunda linea']"
            ]
          },
          "execution_count": 21,
          "metadata": {},
          "output_type": "execute_result"
        }
      ],
      "source": [
        "#Filtrado por la palabra segunda\n",
        "segunda = textfile.filter( lambda  linea : \"segunda\" in linea )\n",
        "segunda.collect()"
      ]
    },
    {
      "cell_type": "code",
      "execution_count": 26,
      "metadata": {
        "colab": {
          "base_uri": "https://localhost:8080/"
        },
        "id": "eWtcUhVEyDak",
        "outputId": "fc0dccf3-d715-4226-d58c-4bdd6fcc830d"
      },
      "outputs": [
        {
          "data": {
            "text/plain": [
              "[2, 4, 7, 48, 51]"
            ]
          },
          "execution_count": 26,
          "metadata": {},
          "output_type": "execute_result"
        }
      ],
      "source": [
        "# map()\n",
        "\n",
        "#suma 1\n",
        "def suma(x):\n",
        "  return(x+1)"
      ]
    },
    {
      "cell_type": "code",
      "execution_count": null,
      "metadata": {
        "id": "IYJ2eX5Zz61J"
      },
      "outputs": [],
      "source": [
        "#aplica la funcion suma a cada uno de los elemento de column_movieID\n",
        "column_movieId_suma = column_movieId.map(suma)\n",
        "column_movieId_suma.take(5)"
      ]
    },
    {
      "cell_type": "code",
      "execution_count": 29,
      "metadata": {
        "colab": {
          "base_uri": "https://localhost:8080/"
        },
        "id": "FWex7YBiz31D",
        "outputId": "26e354f7-8d3d-4073-e3f5-b80e3203439e"
      },
      "outputs": [
        {
          "data": {
            "text/plain": [
              "[(2, 4), (4, 6), (7, 9), (48, 50), (51, 53)]"
            ]
          },
          "execution_count": 29,
          "metadata": {},
          "output_type": "execute_result"
        }
      ],
      "source": [
        "#Se pueden aplicar varias funciones a la vez y guardar en tuplas\n",
        "\n",
        "column_movieId_variado = (column_movieId\n",
        "                          .map(suma)\n",
        "                          .map(lambda x: (x,x+2))\n",
        "                          )\n",
        "\n",
        "column_movieId_variado.take(5)"
      ]
    },
    {
      "cell_type": "code",
      "execution_count": 30,
      "metadata": {
        "colab": {
          "base_uri": "https://localhost:8080/"
        },
        "id": "JOAcREdw1pU7",
        "outputId": "3837aeb8-4ccd-47ac-8a39-70bb561105b0"
      },
      "outputs": [
        {
          "data": {
            "text/plain": [
              "[2, 4, 4, 6, 7]"
            ]
          },
          "execution_count": 30,
          "metadata": {},
          "output_type": "execute_result"
        }
      ],
      "source": [
        "#flatMap()\n",
        "#transforma a una lista simple, lo aplana\n",
        "\n",
        "column_movieId_flat = (column_movieId\n",
        "                          .map(suma)\n",
        "                          .flatMap(lambda x: (x,x+2))\n",
        "                          )\n",
        "\n",
        "column_movieId_flat.take(5)"
      ]
    },
    {
      "cell_type": "markdown",
      "metadata": {
        "id": "Fhgykgb92LdD"
      },
      "source": [
        "# RDD clave - valor"
      ]
    },
    {
      "cell_type": "markdown",
      "metadata": {
        "id": "5pxNlc8n7ZHN"
      },
      "source": [
        "## Desde archivo csv"
      ]
    },
    {
      "cell_type": "code",
      "execution_count": 36,
      "metadata": {
        "colab": {
          "base_uri": "https://localhost:8080/"
        },
        "id": "fzaw0wUJ2OqU",
        "outputId": "0c784432-50d5-4a66-d030-615be333a785"
      },
      "outputs": [
        {
          "data": {
            "text/plain": [
              "[('Toy Story (1995)', 1),\n",
              " ('Jumanji (1995)', 2),\n",
              " ('Grumpier Old Men (1995)', 3),\n",
              " ('Waiting to Exhale (1995)', 4),\n",
              " ('Father of the Bride Part II (1995)', 5)]"
            ]
          },
          "execution_count": 36,
          "metadata": {},
          "output_type": "execute_result"
        }
      ],
      "source": [
        "# crear una lista de tuplas de un archivo\n",
        "\n",
        "#abrir el archivo\n",
        "df_2 = spark.read.csv(\"/content/datasets/movies.csv\", header=True, inferSchema=True)\n",
        "\n",
        "# Seleccionar la columna y convertirla a un RDD\n",
        "lista_tupla =  df_2.rdd.map(lambda row: (row[1],row[0]))\n",
        "\n",
        "lista_tupla.take(5)\n"
      ]
    },
    {
      "cell_type": "markdown",
      "metadata": {
        "id": "sE2l9yr7EqSm"
      },
      "source": [
        "## Desde archivo txt"
      ]
    },
    {
      "cell_type": "code",
      "execution_count": 41,
      "metadata": {
        "colab": {
          "base_uri": "https://localhost:8080/"
        },
        "id": "0zBPWlwLEsKY",
        "outputId": "890796c4-5c22-40e9-a9e0-9c32025a7eac"
      },
      "outputs": [
        {
          "data": {
            "text/plain": [
              "[('primera', 'primera linea '),\n",
              " ('segunda', 'segunda linea'),\n",
              " ('tercera', 'tercera linea'),\n",
              " ('cuarta', 'cuarta linea')]"
            ]
          },
          "execution_count": 41,
          "metadata": {},
          "output_type": "execute_result"
        }
      ],
      "source": [
        "\n",
        "lista_tupla1 = textfile.map(lambda x: (x.split(\" \")[0],x))\n",
        "\n",
        "lista_tupla1.collect()"
      ]
    },
    {
      "cell_type": "markdown",
      "metadata": {
        "id": "b4JTGKjE6-o8"
      },
      "source": [
        "### zip"
      ]
    },
    {
      "cell_type": "code",
      "execution_count": 40,
      "metadata": {
        "colab": {
          "base_uri": "https://localhost:8080/"
        },
        "id": "lOX4wOb07GHV",
        "outputId": "0f6246c0-6c47-416d-a1f5-337ff054c7ab"
      },
      "outputs": [
        {
          "data": {
            "text/plain": [
              "[('a', 1), ('b', 2), ('c', 3)]"
            ]
          },
          "execution_count": 40,
          "metadata": {},
          "output_type": "execute_result"
        }
      ],
      "source": [
        "lista_tupla2 = sc.parallelize(zip((\"a\",\"b\",\"c\"),range(1,4,1)))\n",
        "\n",
        "lista_tupla2.collect()"
      ]
    },
    {
      "cell_type": "markdown",
      "metadata": {
        "id": "G5VVJypFEYce"
      },
      "source": [
        "## keyby"
      ]
    },
    {
      "cell_type": "code",
      "execution_count": 46,
      "metadata": {
        "colab": {
          "base_uri": "https://localhost:8080/"
        },
        "id": "TGfoUv0rFpmr",
        "outputId": "ad4f4690-9ada-46d9-9459-9a588785c556"
      },
      "outputs": [
        {
          "data": {
            "text/plain": [
              "[(3, 1), (4, 2), (5, 3)]"
            ]
          },
          "execution_count": 46,
          "metadata": {},
          "output_type": "execute_result"
        }
      ],
      "source": [
        "rdd = sc.parallelize(range(1,4,1))\n",
        "\n",
        "lista_tupla3 = rdd.keyBy(lambda x: x+2 )\n",
        "lista_tupla3.collect()"
      ]
    },
    {
      "cell_type": "markdown",
      "metadata": {
        "id": "WJqE6MFmJc5z"
      },
      "source": [
        "## ZipWithIndex"
      ]
    },
    {
      "cell_type": "code",
      "execution_count": 49,
      "metadata": {
        "colab": {
          "base_uri": "https://localhost:8080/"
        },
        "id": "HrtMwqdbJBHq",
        "outputId": "59e69c26-6e5c-47e3-a4c7-0de515d92cec"
      },
      "outputs": [
        {
          "data": {
            "text/plain": [
              "[('a', 0), ('b', 1), ('c', 2)]"
            ]
          },
          "execution_count": 49,
          "metadata": {},
          "output_type": "execute_result"
        }
      ],
      "source": [
        "#coloca id consecutivos comenzando de 0, pero no necesriamente unicos\n",
        "rdd = sc.parallelize([\"a\",\"b\",\"c\"])\n",
        "\n",
        "lista_tupla4 = rdd.zipWithIndex()\n",
        "lista_tupla4.collect()"
      ]
    },
    {
      "cell_type": "markdown",
      "metadata": {
        "id": "ZVhOyFMnLQI0"
      },
      "source": [
        "## ZipWithUniqueID"
      ]
    },
    {
      "cell_type": "code",
      "execution_count": 58,
      "metadata": {
        "colab": {
          "base_uri": "https://localhost:8080/"
        },
        "id": "DPl92O-HLVYS",
        "outputId": "c0c15189-0a38-4dc7-ce98-3dd5da724321"
      },
      "outputs": [
        {
          "data": {
            "text/plain": [
              "[('a', 0), ('b', 1), ('c', 3)]"
            ]
          },
          "execution_count": 58,
          "metadata": {},
          "output_type": "execute_result"
        }
      ],
      "source": [
        "# coloca id unicos y no necesariamente consecutivos\n",
        "\n",
        "rdd = sc.parallelize([\"a\",\"b\",\"c\"])\n",
        "\n",
        "lista_tupla5 = rdd.zipWithUniqueId()\n",
        "lista_tupla5.collect()"
      ]
    }
  ],
  "metadata": {
    "colab": {
      "provenance": []
    },
    "kernelspec": {
      "display_name": "Python 3",
      "name": "python3"
    },
    "language_info": {
      "name": "python",
      "version": "3.11.5"
    }
  },
  "nbformat": 4,
  "nbformat_minor": 0
}
